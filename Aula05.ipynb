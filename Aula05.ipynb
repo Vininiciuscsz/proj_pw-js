{
 "cells": [
  {
   "cell_type": "markdown",
   "metadata": {},
   "source": [
    "# Aula 05 - Introdução ao List Comprehension e Format"
   ]
  },
  {
   "cell_type": "markdown",
   "metadata": {},
   "source": [
    "> Nessa aula iremos dar introdução ao list comprehension, uma forma mais simples de realizar conversões de valores entre duas ou mais listas. atualmente é uma das formas mais rápidas de aplicar conversões, substituindo as declarações mais extensas do que o metodo conversional, lambda e o map"
   ]
  },
  {
   "cell_type": "markdown",
   "metadata": {},
   "source": [
    "## Exemplo 1 - Conversão de Celsius para Fahrenheit"
   ]
  },
  {
   "cell_type": "code",
   "execution_count": 1,
   "metadata": {},
   "outputs": [
    {
     "name": "stdout",
     "output_type": "stream",
     "text": [
      "[50.0, 68.0, 75.2, 95.0, 122.0]\n"
     ]
    }
   ],
   "source": [
    "celsius = [10, 20, 24, 35, 50]\n",
    "fahrenheit = [round(x*1.8+32,2) for x in celsius]\n",
    "print (fahrenheit)\n"
   ]
  },
  {
   "cell_type": "markdown",
   "metadata": {},
   "source": [
    "## Exemplo 2 - Conversão de Kmh para Mph"
   ]
  },
  {
   "cell_type": "code",
   "execution_count": 2,
   "metadata": {},
   "outputs": [
    {
     "name": "stdout",
     "output_type": "stream",
     "text": [
      "[62.11, 15.53, 43.48, 49.69, 111.8]\n"
     ]
    }
   ],
   "source": [
    "Kmh = [100, 25, 70, 80, 180]\n",
    "Mph = [round (x/1.61,2) for x in Kmh]\n",
    "print (Mph)"
   ]
  },
  {
   "cell_type": "code",
   "execution_count": 7,
   "metadata": {},
   "outputs": [
    {
     "name": "stdout",
     "output_type": "stream",
     "text": [
      "Kmh    Mph   \n",
      "=============\n",
      "100    62.11 \n",
      "25     15.53 \n",
      "70     43.48 \n",
      "80     49.69 \n",
      "180    111.8 \n"
     ]
    }
   ],
   "source": [
    "print (\"{:<6} {:<6}\".format(\"Kmh\", \"Mph\"))\n",
    "print (\"=============\")\n",
    "x = 0\n",
    "while (x<len (Kmh) ):\n",
    "    print (\"{:<6} {:<6}\".format(Kmh [x], Mph [x]))\n",
    "    x += 1"
   ]
  },
  {
   "cell_type": "code",
   "execution_count": 15,
   "metadata": {},
   "outputs": [
    {
     "name": "stdout",
     "output_type": "stream",
     "text": [
      "celsius  fahrenheit\n",
      "==================\n",
      "10       50.0    \n",
      "==================\n",
      "20       68.0    \n",
      "==================\n",
      "24       75.2    \n",
      "==================\n",
      "35       95.0    \n",
      "==================\n",
      "50       122.0   \n",
      "==================\n"
     ]
    }
   ],
   "source": [
    "print (\"{:<8} {:<8}\".format(\"celsius\", \"fahrenheit\"))\n",
    "print (\"==================\")\n",
    "x = 0\n",
    "while (x<len (celsius)):\n",
    "    print (\"{:<8} {:<8}\".format(celsius [x], fahrenheit [x]))\n",
    "    x += 1\n",
    "    print (\"==================\")"
   ]
  },
  {
   "cell_type": "markdown",
   "metadata": {},
   "source": [
    "## Exercicio"
   ]
  },
  {
   "cell_type": "markdown",
   "metadata": {},
   "source": [
    "> Crie uma lista 10 valores em metros. Crie uma tabela de conversão a polegadas, pés, jardas e milhas maritimas. Listando o número da linha e o cabeçalho da tabela."
   ]
  },
  {
   "cell_type": "code",
   "execution_count": 43,
   "metadata": {},
   "outputs": [
    {
     "name": "stdout",
     "output_type": "stream",
     "text": [
      "Metros   Polegadas   Pes     Jardas   MiMaritimas      \n",
      "==+=======+============+========+==========+============\n",
      "10       393.7       32.81   10.94    0.01             \n",
      "==+=======+============+========+==========+============\n",
      "20       787.4       65.62   21.88    0.01             \n",
      "==+=======+============+========+==========+============\n",
      "30       1181.1      98.43   32.82    0.02             \n",
      "==+=======+============+========+==========+============\n",
      "40       1574.8      131.24  43.76    0.02             \n",
      "==+=======+============+========+==========+============\n",
      "50       1968.5      164.05  54.7     0.03             \n",
      "==+=======+============+========+==========+============\n",
      "60       2362.2      196.86  65.64    0.03             \n",
      "==+=======+============+========+==========+============\n",
      "70       2755.9      229.67  76.58    0.04             \n",
      "==+=======+============+========+==========+============\n",
      "80       3149.6      262.48  87.52    0.04             \n",
      "==+=======+============+========+==========+============\n",
      "90       3543.3      295.29  98.46    0.05             \n",
      "==+=======+============+========+==========+============\n",
      "100      3937.0      328.1   109.4    0.05             \n",
      "==+=======+============+========+==========+============\n"
     ]
    }
   ],
   "source": [
    "metros = [10,20,30,40,50,60,70,80,90,100]\n",
    "metros.sort ()\n",
    "polegadas = [round(x*39.37,2) for x in metros]\n",
    "pes = [round (x*3.281,2) for x in metros]\n",
    "jardas = [round(x*1.094,2) for x in metros]\n",
    "MiMarit = [round (x/1852,2) for x in metros]\n",
    "print (\"{:<8} {:<11} {:<7} {:<8} {:<17}\".format(\"Metros\",\"Polegadas\",\"Pes\",\"Jardas\",\"MiMaritimas\" ))\n",
    "print (\"==+=======+============+========+==========+============\")\n",
    "x = 0\n",
    "while (x<len(metros)):\n",
    "    print (\"{:<8} {:<11} {:<7} {:<8} {:<17}\".format( metros [x], polegadas [x], pes [x], jardas [x], MiMarit [x] ))\n",
    "    x += 1\n",
    "    print (\"==+=======+============+========+==========+============\")\n"
   ]
  },
  {
   "cell_type": "markdown",
   "metadata": {},
   "source": [
    "## Exercicio 2"
   ]
  },
  {
   "cell_type": "markdown",
   "metadata": {},
   "source": [
    "> Crie uma lista com 10 valores em Kelvin. Crie uma tabela de conversão para Celsius e Fahrenheit, listando o número da linha e o cabeçalho da tabela"
   ]
  },
  {
   "cell_type": "code",
   "execution_count": 57,
   "metadata": {},
   "outputs": [
    {
     "name": "stdout",
     "output_type": "stream",
     "text": [
      "N°     Kelvin   Celsius  Fahrenheit\n",
      "==+=======+============+===========+==\n",
      "9        50       -223.15  -409.67   \n",
      "==+=======+============+===========+==\n",
      "9        100      -173.15  -359.67   \n",
      "==+=======+============+===========+==\n",
      "9        150      -123.15  -309.67   \n",
      "==+=======+============+===========+==\n",
      "9        300      26.85    -159.67   \n",
      "==+=======+============+===========+==\n",
      "9        600      326.85   140.33    \n",
      "==+=======+============+===========+==\n",
      "9        700      426.85   240.33    \n",
      "==+=======+============+===========+==\n",
      "9        800      526.85   340.33    \n",
      "==+=======+============+===========+==\n",
      "9        900      626.85   440.33    \n",
      "==+=======+============+===========+==\n",
      "9        1000     726.85   540.33    \n",
      "==+=======+============+===========+==\n"
     ]
    }
   ],
   "source": [
    "Kelvin = [50, 100, 150, 300, 600, 700, 800, 900, 1000]\n",
    "Kelvin.sort ()\n",
    "Celsius = [round(x-273.15,2) for x in Kelvin]\n",
    "Fahrenheit = [round (x-273.15*9/5+32,2) for x in Kelvin]\n",
    "print (\"{:<6} {:<8} {:<8} {:<10}\".format(\"N°\", \"Kelvin\", \"Celsius\", \"Fahrenheit\"))\n",
    "print (\"==+=======+============+===========+==\")\n",
    "for v in range(0,len(Kelvin),1):\n",
    "\n",
    " x = 0\n",
    "while (x<len (Kelvin)):\n",
    "    print (\"{:<8} {:<8} {:<8} {:<10}\".format(v+1, Kelvin[x], Celsius [x], Fahrenheit [x]))\n",
    "    x += 1\n",
    "    print(\"==+=======+============+===========+==\")"
   ]
  },
  {
   "cell_type": "markdown",
   "metadata": {},
   "source": [
    "## Exercicio 3"
   ]
  },
  {
   "cell_type": "markdown",
   "metadata": {},
   "source": [
    "> Crie uma lista com 10 pesos em kilos. Faça a conversão para o peso na Terra, Lua, Júpiter, Saturno e Mercúrio. Monte uma tabela com o cabeçalho e a numeração conforme os exercicios passados."
   ]
  }
 ],
 "metadata": {
  "kernelspec": {
   "display_name": "Python 3",
   "language": "python",
   "name": "python3"
  },
  "language_info": {
   "codemirror_mode": {
    "name": "ipython",
    "version": 3
   },
   "file_extension": ".py",
   "mimetype": "text/x-python",
   "name": "python",
   "nbconvert_exporter": "python",
   "pygments_lexer": "ipython3",
   "version": "3.12.2"
  }
 },
 "nbformat": 4,
 "nbformat_minor": 2
}
